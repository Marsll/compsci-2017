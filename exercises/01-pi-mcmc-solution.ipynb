{
 "cells": [
  {
   "cell_type": "code",
   "execution_count": 1,
   "metadata": {
    "collapsed": true
   },
   "outputs": [],
   "source": [
    "%matplotlib inline\n",
    "import matplotlib.pyplot as plt\n",
    "import numpy as np\n",
    "from time import time"
   ]
  },
  {
   "cell_type": "markdown",
   "metadata": {},
   "source": [
    "Let's start with implementing the Metropolis rule. Encapsulating this task allows us to reuse it elsewhere, write unit tests, and replace it easily inside other functions.\n",
    "\n",
    "This function should accept the current position, create a trial position, and return either the trial or the current position."
   ]
  },
  {
   "cell_type": "code",
   "execution_count": 2,
   "metadata": {},
   "outputs": [
    {
     "data": {
      "text/plain": [
       "(0, 1)"
      ]
     },
     "execution_count": 2,
     "metadata": {},
     "output_type": "execute_result"
    },
    {
     "data": {
      "image/png": "[encoded data removed]",
      "text/plain": [
       "<matplotlib.figure.Figure at 0x10d6e3940>"
      ]
     },
     "metadata": {},
     "output_type": "display_data"
    }
   ],
   "source": [
    "def metropolis_uniform_unit_square(xy, width=0.4):\n",
    "    '''Generate a Markov chain using the Metropolis rule.\n",
    "    \n",
    "    We generate a Markov chain of random displacements inside a unit square;\n",
    "    this function implements the update rule and returns either a new valid\n",
    "    position inside the unit square or the supplied argument if the\n",
    "    displacement would lead out of the unit square.\n",
    "    \n",
    "    Arguments:\n",
    "        xy (ndarray): current position inside the unit square\n",
    "        width (float): width of the trial square around the current position\n",
    "    '''\n",
    "    xy_trial = xy + width * (np.random.rand(*xy.shape) - 0.5)\n",
    "    if np.all(xy_trial >= 0.0) and np.all(xy_trial <= 1.0):\n",
    "         return xy_trial\n",
    "    return xy\n",
    "\n",
    "markov_chain = [np.asarray([0.5, 0.5])]\n",
    "for i in range(20):\n",
    "    markov_chain.append(metropolis_uniform_unit_square(markov_chain[-1]))\n",
    "markov_chain = np.asarray(markov_chain)\n",
    "\n",
    "fig, ax = plt.subplots(figsize=(4, 4))\n",
    "ax.plot(*markov_chain.T, '--', color='grey')\n",
    "ax.scatter(*markov_chain.T, c=range(len(markov_chain)))\n",
    "ax.set_xlim(0, 1)\n",
    "ax.set_ylim(0, 1)"
   ]
  },
  {
   "cell_type": "markdown",
   "metadata": {},
   "source": [
    "We generated a short Markov chain and visualized how the walker moves inside the unit square. The colors indicate the rank inside the sequence where dark indicates early and light indicates later elements of the Markov chain.\n",
    "\n",
    "Let's now implement the approximation function and reuse our Metropolis rule:"
   ]
  },
  {
   "cell_type": "code",
   "execution_count": 3,
   "metadata": {},
   "outputs": [
    {
     "name": "stdout",
     "output_type": "stream",
     "text": [
      "pi   = 3.10800\n",
      "time = 2.467 seconds\n"
     ]
    }
   ],
   "source": [
    "def approximate_pi_mcmc(n_sample, width=0.4):\n",
    "    '''Approximate pi using Metropolis MCMC.\n",
    "    \n",
    "    We generate a Markov chain of random displacements inside a unit square\n",
    "    and, thus, sample the area ratio between a quarter unit circle and the\n",
    "    unit square.\n",
    "    \n",
    "    Arguments:\n",
    "        n_sample (int): number of update steps in the Markov chain\n",
    "        width (float): width of the trial square around the current position\n",
    "    '''\n",
    "    summation = 0\n",
    "    xy = np.random.rand(2)\n",
    "    for i in range(n_sample):\n",
    "        xy = metropolis_uniform_unit_square(xy, width=width)\n",
    "        if np.sum(xy**2) <= 1.0:\n",
    "            summation += 1\n",
    "    return 4.0 * summation / float(n_sample)\n",
    "\n",
    "start = time()\n",
    "pi = approximate_pi_mcmc(100000)\n",
    "finish = time()\n",
    "print('pi   = %.5f' % pi)\n",
    "print('time = %.3f seconds' % (finish - start))"
   ]
  },
  {
   "cell_type": "markdown",
   "metadata": {},
   "source": [
    "We observe that this approach is much slower than the vectorized direct MC. This is because we have to use a pure python loop as we iterate over the Markov chain, and python loops are slow.\n",
    "\n",
    "As a final step, let's do a rough statistical analysis to understand how the two parameters ``n_sample`` and ``width`` influence the calculation. To this aim, we write another function ``sample`` which runs ``approximate_pi_mcmc`` several times for a given parameter choice and returns a list with all generated pi estimates."
   ]
  },
  {
   "cell_type": "code",
   "execution_count": 4,
   "metadata": {
    "collapsed": true
   },
   "outputs": [],
   "source": [
    "def sample(n_rep, n_sample, width=0.4):\n",
    "    '''Benchmark the approximation of pi using Metropolis MCMC.\n",
    "    \n",
    "    We repeatedly call approximate_pi_mcmc and return a list with\n",
    "    the pi estimates for further analysis.\n",
    "    \n",
    "    Arguments:\n",
    "        n_rep (int): number of repetitions\n",
    "        n_sample (int): number of update steps in the Markov chain\n",
    "        width (float): width of the trial square around the current position\n",
    "    '''\n",
    "    return [approximate_pi_mcmc(n_sample, width=width) for i in range(n_rep)]"
   ]
  },
  {
   "cell_type": "markdown",
   "metadata": {},
   "source": [
    "We can then fix one parameter and vary the other, and visualize how the quality of the pi approximation changes with the variable parameter. Let's fix ``width=0.4`` (which is the default) and examine the dependency on the length of the Markov chain by plotting the mean and the full range of results for each choice of ``n_sample``:"
   ]
  },
  {
   "cell_type": "code",
   "execution_count": 5,
   "metadata": {},
   "outputs": [
    {
     "data": {
      "text/plain": [
       "[]"
      ]
     },
     "execution_count": 5,
     "metadata": {},
     "output_type": "execute_result"
    },
    {
     "data": {
      "image/png": "[encoded data removed]",
      "text/plain": [
       "<matplotlib.figure.Figure at 0x10f7b7c50>"
      ]
     },
     "metadata": {},
     "output_type": "display_data"
    }
   ],
   "source": [
    "n_sample = [100, 1000, 10000, 100000, 1000000]\n",
    "pi = [sample(10, n, width=0.4) for n in n_sample]\n",
    "\n",
    "plt.plot(n_sample, [np.pi] * len(n_sample), '--', color='black', lw=2)\n",
    "plt.fill_between(n_sample, np.min(pi, axis=1), np.max(pi, axis=1), alpha=0.3)\n",
    "plt.plot(n_sample, np.mean(pi, axis=1), '-o')\n",
    "plt.semilogx()"
   ]
  },
  {
   "cell_type": "markdown",
   "metadata": {},
   "source": [
    "We observe that the mean converges towards the true value and that the approximation errors decay with increasing ``n_sample``.\n",
    "\n",
    "How does the choice of ``width`` influence the approximation quality?"
   ]
  },
  {
   "cell_type": "code",
   "execution_count": 6,
   "metadata": {},
   "outputs": [
    {
     "data": {
      "text/plain": [
       "[<matplotlib.lines.Line2D at 0x10f7f5668>]"
      ]
     },
     "execution_count": 6,
     "metadata": {},
     "output_type": "execute_result"
    },
    {
     "data": {
      "image/png": "[encoded data removed]",
      "text/plain": [
       "<matplotlib.figure.Figure at 0x10f8a9438>"
      ]
     },
     "metadata": {},
     "output_type": "display_data"
    }
   ],
   "source": [
    "width = [0.1, 0.2, 0.3, 0.4, 0.5, 0.6, 0.7, 0.8, 0.9, 1.0]\n",
    "pi = [sample(10, 100000, width=w) for w in width]\n",
    "\n",
    "plt.plot(width, [np.pi] * len(width), '--', color='black', lw=2)\n",
    "plt.fill_between(width, np.min(pi, axis=1), np.max(pi, axis=1), alpha=0.3)\n",
    "plt.plot(width, np.mean(pi, axis=1), '-o')"
   ]
  },
  {
   "cell_type": "markdown",
   "metadata": {},
   "source": [
    "We observe that the sampling is much less sensitive towards the ``width`` than towards ``n_sample``, but we nevertheless observe that a small ``width`` seems to worsen the approximation quality. At this point we could formulate the hypothesis that a small step size slows down the sampling.\n",
    "\n",
    "Any idea how we could test this hypothesis?"
   ]
  },
  {
   "cell_type": "code",
   "execution_count": null,
   "metadata": {
    "collapsed": true
   },
   "outputs": [],
   "source": []
  }
 ],
 "metadata": {
  "kernelspec": {
   "display_name": "Python 3",
   "language": "python",
   "name": "python3"
  },
  "language_info": {
   "codemirror_mode": {
    "name": "ipython",
    "version": 3
   },
   "file_extension": ".py",
   "mimetype": "text/x-python",
   "name": "python",
   "nbconvert_exporter": "python",
   "pygments_lexer": "ipython3",
   "version": "3.6.1"
  }
 },
 "nbformat": 4,
 "nbformat_minor": 2
}
