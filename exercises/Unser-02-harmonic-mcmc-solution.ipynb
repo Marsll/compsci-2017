{
 "cells": [
  {
   "cell_type": "code",
   "execution_count": 2,
   "metadata": {
    "collapsed": true
   },
   "outputs": [],
   "source": [
    "%matplotlib inline\n",
    "import matplotlib.pyplot as plt\n",
    "import numpy as np\n",
    "from time import time"
   ]
  },
  {
   "cell_type": "code",
   "execution_count": 3,
   "metadata": {
    "collapsed": true
   },
   "outputs": [],
   "source": [
    "def harmonic_potential(xy):\n",
    "    return np.sum(xy**2) / 2"
   ]
  },
  {
   "cell_type": "markdown",
   "metadata": {},
   "source": [
    "Let's start with implementing the Metropolis rule. Encapsulating this task allows us to reuse it elsewhere, write unit tests, and replace it easily inside other functions.\n",
    "\n",
    "This function should accept the current position, create a trial position, and return either the trial or the current position."
   ]
  },
  {
   "cell_type": "code",
   "execution_count": 4,
   "metadata": {
    "collapsed": true
   },
   "outputs": [],
   "source": [
    "def conditional_probability(potential, xy, xy_trial):\n",
    "    return np.minimum(1, np.exp(-potential(xy_trial) + potential(xy)))"
   ]
  },
  {
   "cell_type": "code",
   "execution_count": 8,
   "metadata": {
    "collapsed": false
   },
   "outputs": [
    {
     "data": {
      "text/plain": [
       "0.36787944117144233"
      ]
     },
     "execution_count": 8,
     "metadata": {},
     "output_type": "execute_result"
    }
   ],
   "source": [
    "conditional_probability(harmonic_potential, np.array([0,0]), np.array([1,1]))"
   ]
  },
  {
   "cell_type": "code",
   "execution_count": 5,
   "metadata": {
    "collapsed": false
   },
   "outputs": [
    {
     "data": {
      "text/plain": [
       "(-1, 1)"
      ]
     },
     "execution_count": 5,
     "metadata": {},
     "output_type": "execute_result"
    },
    {
     "data": {
      "image/png": "[encoded data removed]",
      "text/plain": [
       "<matplotlib.figure.Figure at 0x7f7c75acd208>"
      ]
     },
     "metadata": {},
     "output_type": "display_data"
    }
   ],
   "source": [
    "def metropolis_potential(xy, potential, width=0.4):\n",
    "    '''Generate a Markov chain using the Metropolis rule.\n",
    "    \n",
    "    We generate a Markov chain of random displacements where we assume\n",
    "    the random walker to move in a potential.\n",
    "    \n",
    "    Arguments:\n",
    "        xy (ndarray): current position inside the unit square\n",
    "        width (float): width of the trial square around the current position\n",
    "    '''\n",
    "\n",
    "    xy_trial = xy + width * (np.random.rand(*xy.shape) - 0.5)\n",
    "    if np.random.random() < conditional_probability(potential, xy, xy_trial):\n",
    "         return xy_trial\n",
    "    else:\n",
    "        return xy\n",
    "\n",
    "markov_chain = [np.asarray([0.0, 0.0])]\n",
    "for i in range(100):\n",
    "    markov_chain.append(metropolis_potential(markov_chain[-1], harmonic_potential))\n",
    "markov_chain = np.asarray(markov_chain)\n",
    "\n",
    "fig, ax = plt.subplots(figsize=(4, 4))\n",
    "ax.plot(*markov_chain.T, '--', color='grey')\n",
    "ax.scatter(*markov_chain.T, c=range(len(markov_chain)))\n",
    "ax.set_xlim(-1, 1)\n",
    "ax.set_ylim(-1, 1)"
   ]
  },
  {
   "cell_type": "markdown",
   "metadata": {},
   "source": [
    "We generated a short Markov chain and visualized how the walker moves. The colors indicate the rank inside the sequence where dark indicates early and light indicates later elements of the Markov chain.\n",
    "\n",
    "Let's now implement the approximation function and reuse our Metropolis rule:"
   ]
  },
  {
   "cell_type": "code",
   "execution_count": 11,
   "metadata": {
    "collapsed": true
   },
   "outputs": [],
   "source": [
    "def distance_from_origin(xy):\n",
    "    return np.sqrt(np.sum(xy**2))"
   ]
  },
  {
   "cell_type": "code",
   "execution_count": 20,
   "metadata": {
    "collapsed": false
   },
   "outputs": [
    {
     "data": {
      "image/png": "[encoded data removed]",
      "text/plain": [
       "<matplotlib.figure.Figure at 0x7f7c748fada0>"
      ]
     },
     "metadata": {},
     "output_type": "display_data"
    },
    {
     "name": "stdout",
     "output_type": "stream",
     "text": [
      "[-0.00057323  0.55157874]\n"
     ]
    }
   ],
   "source": [
    "def sample(n_sample, width=0.4):\n",
    "    '''\n",
    "    \n",
    "    We generate a Markov chain of random displacements moving according\n",
    "    to a harmonic potential and compute the distance from the origin of\n",
    "    every sample point. The function outputs this vector of distances.\n",
    "    \n",
    "    Arguments:\n",
    "        n_sample (int): number of update steps in the Markov chain\n",
    "        width (float): width of the trial square around the current position\n",
    "    '''\n",
    "    #xy = np.random.rand(2)\n",
    "    r_vec = np.empty(n_sample)\n",
    "    \n",
    "    xy = np.array([0,0])\n",
    "    for i in range(n_sample):\n",
    "        xy = metropolis_potential(xy, harmonic_potential, width=width)\n",
    "        r_vec[i] = distance_from_origin(xy)\n",
    "    return r_vec\n",
    "\n",
    "\n",
    "r_vec = sample(1000000, width=0.5)\n",
    "plt.hist(r_vec, bins='auto')\n",
    "plt.title(\"Histogram of sample distribution over radius\")\n",
    "plt.show()"
   ]
  },
  {
   "cell_type": "markdown",
   "metadata": {
    "collapsed": true
   },
   "source": [
    "# Wikipedia Boltzmann distribution\n",
    "![Boltzmann distribution](https://upload.wikimedia.org/wikipedia/commons/1/19/Maxwell-Boltzmann_distribution_pdf.svg)"
   ]
  },
  {
   "cell_type": "code",
   "execution_count": null,
   "metadata": {
    "collapsed": true
   },
   "outputs": [],
   "source": []
  }
 ],
 "metadata": {
  "kernelspec": {
   "display_name": "Python [Root]",
   "language": "python",
   "name": "Python [Root]"
  },
  "language_info": {
   "codemirror_mode": {
    "name": "ipython",
    "version": 3
   },
   "file_extension": ".py",
   "mimetype": "text/x-python",
   "name": "python",
   "nbconvert_exporter": "python",
   "pygments_lexer": "ipython3",
   "version": "3.5.2"
  }
 },
 "nbformat": 4,
 "nbformat_minor": 2
}
