{
 "cells": [
  {
   "cell_type": "markdown",
   "metadata": {},
   "source": [
    "# CompSci software project WS17/18 - 24.10.2017"
   ]
  },
  {
   "cell_type": "code",
   "execution_count": null,
   "metadata": {
    "collapsed": true
   },
   "outputs": [],
   "source": [
    "%matplotlib inline\n",
    "import matplotlib.pyplot as plt\n",
    "import numpy as np\n",
    "from time import time"
   ]
  },
  {
   "cell_type": "markdown",
   "metadata": {},
   "source": [
    "## Task\n",
    "\n",
    "Write a function ``approximate_pi(n_sample)`` to compute an estimate for $\\pi$ using $n_{\\text{sample}}$ Monte Carlo (MC) throws:\n",
    "\n",
    "$$\\pi_{\\text{approx}} = \\frac{4}{n_{\\text{sample}}} \\sum\\limits_{n=0}^{n_{\\text{sample}}-1} \\chi(x_n, y_n)$$\n",
    "\n",
    "with\n",
    "\n",
    "$$\\chi(x_n, y_n) = \\left\\{\\begin{array}{rl}1, & x_n^2+y_n^2\\leq 1 \\\\ 0,& \\text{else} \\end{array}\\right.$$\n",
    "\n",
    "and\n",
    "\n",
    "$$(x_n, y_n) \\in [0, 1]^2 \\, \\forall n.$$"
   ]
  },
  {
   "cell_type": "code",
   "execution_count": null,
   "metadata": {},
   "outputs": [],
   "source": [
    "def approximate_pi_naive(n_sample):\n",
    "    summation = 0\n",
    "    for i in range(n_sample):\n",
    "        x, y = np.random.rand(2)\n",
    "        if x * x + y * y <= 1.0:\n",
    "            summation += 1\n",
    "    return 4.0 * summation / float(n_sample)\n",
    "\n",
    "start = time()\n",
    "print(approximate_pi_naive(1000000))\n",
    "print(time() - start)"
   ]
  },
  {
   "cell_type": "code",
   "execution_count": null,
   "metadata": {},
   "outputs": [],
   "source": [
    "def approximate_pi_vectorized(n_sample):\n",
    "    xy = np.random.rand(n_sample, 2)\n",
    "    rr = np.sum(xy**2, axis=1)\n",
    "    idx = np.where(rr <= 1.0)[0]\n",
    "    return 4.0 * len(idx) / float(n_sample)\n",
    "start = time()\n",
    "print(approximate_pi_vectorized(1000000))\n",
    "print(time() - start)"
   ]
  },
  {
   "cell_type": "code",
   "execution_count": null,
   "metadata": {
    "collapsed": true
   },
   "outputs": [],
   "source": []
  }
 ],
 "metadata": {
  "kernelspec": {
   "display_name": "Python 3",
   "language": "python",
   "name": "python3"
  },
  "language_info": {
   "codemirror_mode": {
    "name": "ipython",
    "version": 3
   },
   "file_extension": ".py",
   "mimetype": "text/x-python",
   "name": "python",
   "nbconvert_exporter": "python",
   "pygments_lexer": "ipython3",
   "version": "3.6.1"
  }
 },
 "nbformat": 4,
 "nbformat_minor": 2
}
